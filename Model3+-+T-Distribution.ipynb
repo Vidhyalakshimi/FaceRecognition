{
 "cells": [
  {
   "cell_type": "code",
   "execution_count": 13,
   "metadata": {
    "collapsed": true
   },
   "outputs": [],
   "source": [
    "##T-Distribution\n",
    "import glob\n",
    "import cv2\n",
    "import numpy as np\n",
    "from scipy.stats import multivariate_normal\n",
    "from matplotlib import pyplot as plt\n",
    "from sklearn.metrics import roc_curve, roc_auc_score\n",
    "from numpy.linalg import inv\n",
    "from numpy import linalg as la\n",
    "import matplotlib.pyplot as plt\n",
    "import math\n",
    "from scipy import special\n",
    "import scipy\n",
    "\n",
    "#Load Data \n",
    "def load_images(file_path):\n",
    "    imgs_flat = []\n",
    "    for file in glob.glob(file_path): \n",
    "        img = cv2.imread(file)\n",
    "        gray_img = cv2.cvtColor(img, cv2.COLOR_BGR2GRAY)\n",
    "#       hist = cv2.equalizeHist(gray_img)\n",
    "        gray = cv2.resize(gray_img,(10,10))\n",
    "        img_flat = gray.ravel()\n",
    "        imgs_flat.append(img_flat) \n",
    "    return np.array(imgs_flat)\n",
    "\n",
    "## Load Training Data \n",
    "positive_train = load_images(\"H:\\\\NCSU\\\\Courses\\\\Sem2\\\\CV\\\\Project\\\\Training\\\\Positive\\\\*.jpg\")\n",
    "negative_train = load_images('H:\\\\NCSU\\\\Courses\\\\Sem2\\\\CV\\\\Project\\\\Training\\\\Negative\\\\*.jpg')\n",
    "##Load Testing Data\n",
    "test_pos_img = load_images(\"H:\\\\NCSU\\\\Courses\\\\Sem2\\\\CV\\\\Project\\\\Test\\\\Positive\\\\*.jpg\")\n",
    "test_neg_img = load_images(\"H:\\\\NCSU\\\\Courses\\\\Sem2\\\\CV\\\\Project\\\\Test\\\\Negative\\\\*.jpg\")"
   ]
  },
  {
   "cell_type": "code",
   "execution_count": 14,
   "metadata": {
    "collapsed": true
   },
   "outputs": [],
   "source": [
    "## T-distribution - EM Algorithm\n",
    "def tcost(df,Ehi,Eloghi):\n",
    "    n = Ehi.shape[0]\n",
    "    val = n * ((df/2)*np.log(df/2) - special.gammaln(df/2))\n",
    "    val = val + ((df/2)-1)*np.sum(Eloghi)\n",
    "    val = val - (df/2)*np.sum(Ehi)\n",
    "    return -1*val\n",
    "\n",
    "def calc_delta(m,x_mu_diff,n,delta,temp):\n",
    "    for i in range(m):\n",
    "        temp1 = np.reshape(x_mu_diff[i],(n,1))\n",
    "        delta[i] = np.matmul(temp[i],temp1)   \n",
    "    delta = np.reshape(delta,(m,1))\n",
    "    return delta\n",
    "\n",
    "def calc_covariance(m,x_mu_diff,n,sigma,Ehi):\n",
    "    for i in range(m):\n",
    "        temp = np.reshape(x_mu_diff[i],(n,1))\n",
    "        sigma += Ehi[i]*np.matmul(temp,temp.T)\n",
    "    sigma = sigma / np.sum(Ehi)\n",
    "    return sigma\n",
    "\n",
    "def calc_current_log(sigma, m,n,df,delta):\n",
    "    temp4 = (np.linalg.slogdet(sigma)[1]/2) #Log determinant as normal det caused errors\n",
    "    current_log = m*((special.gammaln((df+n)/2))-((n/2)*np.log(df*np.pi)) - temp4 - (special.gammaln(df/2)))\n",
    "    temp3 = np.sum(np.log(1+delta/df))/2\n",
    "    current_log = current_log - (df+n)*temp3\n",
    "    return current_log\n",
    "\n",
    "def EM(x):   \n",
    "    m,n = x.shape\n",
    "    #Intialize\n",
    "    prev_log = -np.inf\n",
    "    delta = np.zeros(m)\n",
    "    delta = np.reshape(delta,(m,1)) \n",
    "    df = 1000\n",
    "    mu = x.mean(axis=0)\n",
    "    sigma = np.cov(x.T)\n",
    "    \n",
    "    while True:\n",
    "        x_mu_diff = x - mu\n",
    "        temp = np.matmul(x_mu_diff,la.pinv(sigma))\n",
    "        \n",
    "        #E-step\n",
    "        delta = calc_delta(m,x_mu_diff,n,delta,temp)\n",
    "        Ehi = ((df + m) / (df + delta)) \n",
    "        Eloghi = special.psi((df+m)/2) - np.log((df+delta)/2)\n",
    "        Ehi.shape = (m,1)\n",
    "        Eloghi.shape = (m,1)\n",
    "        \n",
    "        #M-step\n",
    "        hi_xi = np.multiply(Ehi,x)\n",
    "        sigma = np.zeros((n,n))\n",
    "        mu = np.sum(hi_xi,axis=0)/np.sum(Ehi) \n",
    "        x_mu_diff = x - mu\n",
    "        \n",
    "        #Covariance\n",
    "        sigma = calc_covariance(m,x_mu_diff,n,sigma,Ehi)\n",
    "        df = scipy.optimize.fminbound(tcost,1,1000,(Ehi,Eloghi))\n",
    "        df = round(df,4)\n",
    "        x_mu_diff = x - mu\n",
    "        temp1 = np.matmul(x_mu_diff,la.inv(sigma))\n",
    "        \n",
    "        #Delta\n",
    "        for i in range(m):\n",
    "            temp2 = np.reshape(x_mu_diff[i],(n,1))\n",
    "            delta[i] = np.matmul(temp1[i],temp2)\n",
    "        delta = np.reshape(delta,(m,1))\n",
    "        \n",
    "        #Log likelihood\n",
    "        current_log = calc_current_log(sigma, m,n,df,delta)\n",
    "#         print(str(current_log))\n",
    "        if np.abs(current_log - prev_log) < 0.01:\n",
    "            break\n",
    "        prev_log = current_log\n",
    "        \n",
    "    return df, mu, sigma\n"
   ]
  },
  {
   "cell_type": "code",
   "execution_count": 7,
   "metadata": {},
   "outputs": [
    {
     "name": "stdout",
     "output_type": "stream",
     "text": [
      "-487344.050483\n",
      "-487590.062532\n",
      "-487570.450342\n",
      "-487569.743432\n",
      "-487569.712182\n",
      "-487569.710634\n",
      "-396194.878048\n",
      "-378125.781618\n",
      "-375150.623676\n",
      "-374740.142238\n",
      "-374677.290983\n",
      "-374666.89051\n",
      "-374665.089641\n",
      "-374664.768357\n",
      "-374664.709683\n",
      "-374664.698735\n",
      "-374664.696648\n"
     ]
    }
   ],
   "source": [
    "df_pos, mu_pos, sig_pos = EM(positive_train)\n",
    "df_neg, mu_neg, sig_neg = EM(negative_train)"
   ]
  },
  {
   "cell_type": "code",
   "execution_count": 15,
   "metadata": {
    "collapsed": true
   },
   "outputs": [],
   "source": [
    "## Mean and Covarince Visualization\n",
    "\n",
    "def mean_visualize(mean, path):\n",
    "    mean_image = np.array(mean,dtype=\"uint8\").reshape(10,10,1)\n",
    "    mean_image = cv2.resize(mean_image, (60,60))\n",
    "    cv2.imwrite(path,mean_image)\n",
    "\n",
    "def cov_visualize(cov, path):\n",
    "    covar_diag = np.rint(np.diag(cov))\n",
    "    covar_diag = np.rint(255 * covar_diag / max(covar_diag))\n",
    "    covar_array = np.array(covar_diag, dtype='uint8')\n",
    "    covar_image = covar_array.reshape(10,10)\n",
    "    covar_image = cv2.resize(covar_image, (60,60))\n",
    "    cv2.imwrite(path,covar_image)    "
   ]
  },
  {
   "cell_type": "code",
   "execution_count": 45,
   "metadata": {
    "collapsed": true
   },
   "outputs": [],
   "source": [
    "# T - distribution - Multivariate formula\n",
    "def calculate_t_pdf(x,mu,sigma,df):\n",
    "    m = x.shape[0]\n",
    "    x_mu_diff = x - mu\n",
    "    root_det = math.sqrt(np.linalg.det(sigma))\n",
    "    temp1 = np.matmul(np.matmul((x_mu_diff),np.linalg.inv(sigma)), (x_mu_diff))\n",
    "    dr = (pow(np.pi*df,m/2) * root_det * special.gamma(df/2) * pow(1 + (1/df)*temp1,(m+df)/2))\n",
    "    nr = special.gamma((m+df)/2)\n",
    "    return nr/dr\n",
    "\n",
    "##Calculate Predictions\n",
    "pred = []\n",
    "def calc_predictions(test_img, mu_pos, sig_pos, df_pos, mu_neg, sig_neg, df_neg):\n",
    "    for test in test_img:\n",
    "        face_pdf = calculate_t_pdf(test, mu_pos, sig_pos, df_pos)\n",
    "        non_face_pdf = calculate_t_pdf(test, mu_neg, sig_neg, df_neg)\n",
    "        posterior = (face_pdf)/(non_face_pdf+face_pdf)\n",
    "        pred.append(posterior)\n",
    "    return pred\n",
    "##Evaluation of Learned model Performance\n",
    "def print_result(accuracy, false_postive_rate, false_negative_rate, misclass):\n",
    "    print(\"\\nResults: \")\n",
    "    print(\"----------\")\n",
    "    print(\"Accuracy: \"+str(accuracy))\n",
    "    print(\"False positive rate: \"+str(false_postive_rate/100))\n",
    "    print(\"False negative rate: \"+str(false_negative_rate/100))\n",
    "    print(\"Misclassification rate: \"+str(misclass))\n",
    "    \n",
    "def calc_accuracy(probability_pred, original):\n",
    "    probability_pred = [ round(elem,2) for elem in probability_pred ]\n",
    "    predictions = []\n",
    "    for i in probability_pred:\n",
    "        if i > 0.5:\n",
    "            predictions.append(1)\n",
    "        else:\n",
    "            predictions.append(0)\n",
    "    match_count = 0\n",
    "    for x,y in zip(original, predictions):\n",
    "        if x==y:\n",
    "            match_count+=1\n",
    "    accuracy = match_count/len(predictions)\n",
    "    misclass = 1-accuracy\n",
    "    false_postive_rate=0\n",
    "    for x,y in zip(original, predictions):\n",
    "        if x!=y & y==1:\n",
    "            false_postive_rate +=1    \n",
    "    false_negative_rate=0\n",
    "    for x,y in zip(original, predictions):\n",
    "        if x!=y & y==0:\n",
    "            false_negative_rate+=1 \n",
    "    print_result(accuracy, false_postive_rate, false_negative_rate, misclass)  \n",
    "\n",
    "    return probability_pred"
   ]
  },
  {
   "cell_type": "code",
   "execution_count": 46,
   "metadata": {
    "collapsed": true
   },
   "outputs": [],
   "source": [
    "##Plot ROC curve\n",
    "def plot_ROC(original, predictions):\n",
    "    false_positive_rate, true_positive_rate, thresholds = roc_curve(original, predictions)\n",
    "    roc_auc = roc_auc_score(original,predictions)\n",
    "    plt.plot(false_positive_rate, true_positive_rate, 'b',label='AUC = %0.2f'% roc_auc)\n",
    "    plt.legend(loc='right')\n",
    "    plt.xlabel('False Positive Rate')\n",
    "    plt.ylabel('True Positive Rate')\n",
    "    plt.plot([0,1],[0,1],'r--')\n",
    "    plt.xlim([-0.1,1.1])\n",
    "    plt.ylim([-0.1,1.1])\n",
    "    plt.show()"
   ]
  },
  {
   "cell_type": "code",
   "execution_count": 47,
   "metadata": {},
   "outputs": [
    {
     "name": "stderr",
     "output_type": "stream",
     "text": [
      "C:\\Users\\Vidhya\\Anaconda3\\lib\\site-packages\\ipykernel_launcher.py:7: RuntimeWarning: overflow encountered in double_scalars\n",
      "  import sys\n"
     ]
    },
    {
     "name": "stdout",
     "output_type": "stream",
     "text": [
      "\n",
      "Results: \n",
      "----------\n",
      "Accuracy: 0.955\n",
      "False positive rate: 0.09\n",
      "False negative rate: 0.0\n",
      "Misclassification rate: 0.04500000000000004\n"
     ]
    },
    {
     "data": {
      "image/png": "[encoded data removed]",
      "text/plain": [
       "<matplotlib.figure.Figure at 0x217dd8d8f60>"
      ]
     },
     "metadata": {},
     "output_type": "display_data"
    }
   ],
   "source": [
    "## Prediction and Evaluation\n",
    "#Test data - Faces\n",
    "original_pos = [1]*100\n",
    "calc_predictions(test_pos_img, mu_pos, sig_pos, df_pos, mu_neg, sig_neg, df_neg )\n",
    "\n",
    "#Test data - Non Faces\n",
    "original_neg = [0]*100\n",
    "calc_predictions(test_neg_img, mu_pos, sig_pos, df_pos, mu_neg, sig_neg, df_neg)\n",
    "original = original_pos + original_neg\n",
    "probability_pred = calc_accuracy(pred, original)\n",
    "\n",
    "plot_ROC(original, probability_pred)"
   ]
  }
 ],
 "metadata": {
  "kernelspec": {
   "display_name": "Python 3",
   "language": "python",
   "name": "python3"
  },
  "language_info": {
   "codemirror_mode": {
    "name": "ipython",
    "version": 3
   },
   "file_extension": ".py",
   "mimetype": "text/x-python",
   "name": "python",
   "nbconvert_exporter": "python",
   "pygments_lexer": "ipython3",
   "version": "3.6.4"
  }
 },
 "nbformat": 4,
 "nbformat_minor": 2
}
