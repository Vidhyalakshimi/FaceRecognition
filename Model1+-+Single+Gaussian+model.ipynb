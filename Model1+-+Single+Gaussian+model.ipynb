{
 "cells": [
  {
   "cell_type": "code",
   "execution_count": 62,
   "metadata": {
    "collapsed": true,
    "scrolled": true
   },
   "outputs": [],
   "source": [
    "## Single gaussian model\n",
    "import cv2\n",
    "import os\n",
    "from numpy import *\n",
    "import numpy as np\n",
    "import glob\n",
    "from sklearn.decomposition import PCA\n",
    "from sklearn.preprocessing import StandardScaler\n",
    "from scipy.stats import multivariate_normal\n",
    "from sklearn.metrics import roc_curve, auc\n",
    "from matplotlib import pyplot as plt\n",
    "from sklearn.metrics import roc_curve, roc_auc_score\n",
    "\n",
    "\n",
    "FOLDER_PATH='H:\\\\NCSU\\\\Courses\\\\Sem2\\\\CV\\\\Project\\\\'\n",
    "def display_image(image):\n",
    "\tcv2.imshow('image', image)\n",
    "\tcv2.waitKey(0)\n",
    "\tcv2.destroyAllWindows()\n",
    "    \n",
    "def load_images_from_folder(folder_name):\n",
    "\tfolder=FOLDER_PATH+'{}'.format(folder_name)\n",
    "\timgs_flat = []\n",
    "\tfor file in os.listdir(folder):\n",
    "\t\timg = cv2.imread(os.path.join(folder,file))\n",
    "\t\tgray_img = cv2.cvtColor(img, cv2.COLOR_BGR2GRAY)\n",
    "# \t\thist = cv2.equalizeHist(gray_img)\n",
    "\t\tgray_img = cv2.resize(gray_img, (10,10))\n",
    "\t\timg_flat = hist.ravel()\n",
    "# \t\timg_flat = img.ravel()\n",
    "\t\timgs_flat.append(np.array(img_flat))\n",
    "\treturn np.array(imgs_flat)\n",
    "\n",
    "#Load Data \n",
    "def load_images(file_path):\n",
    "    imgs_flat = []\n",
    "    for file in glob.glob(file_path): \n",
    "        img = cv2.imread(file)\n",
    "        gray_img = cv2.cvtColor(img, cv2.COLOR_BGR2GRAY)\n",
    "#       hist = cv2.equalizeHist(gray_img)\n",
    "        gray = cv2.resize(gray_img,(10,10))\n",
    "        img_flat = gray.ravel()\n",
    "        imgs_flat.append(img_flat) \n",
    "    return np.array(imgs_flat)\n",
    "\n",
    "def calculate_gaussian_pdf(data, mu, sig):\n",
    "\tsig_inv = np.linalg.inv(sig)\n",
    "\tdet = np.linalg.det(sig)\n",
    "# \tprint (det)\n",
    "\ttemp = data-mu\n",
    "\tterm = np.matmul(np.matmul(temp,sig_inv), temp.T)\n",
    "\texp_term = math.exp(-0.5*term)\n",
    "\tpdf = exp_term/math.sqrt(det) \n",
    "\treturn pdf\n"
   ]
  },
  {
   "cell_type": "code",
   "execution_count": 63,
   "metadata": {},
   "outputs": [
    {
     "data": {
      "text/plain": [
       "True"
      ]
     },
     "execution_count": 63,
     "metadata": {},
     "output_type": "execute_result"
    }
   ],
   "source": [
    "## Load Training and Test Data\n",
    "positive_train = load_images(\"H:\\\\NCSU\\\\Courses\\\\Sem2\\\\CV\\\\Project\\\\Training\\\\Positive\\\\*.jpg\")\n",
    "negative_train = load_images('H:\\\\NCSU\\\\Courses\\\\Sem2\\\\CV\\\\Project\\\\Training\\\\Negative\\\\*.jpg')\n",
    "test_pos_img = load_images(\"H:\\\\NCSU\\\\Courses\\\\Sem2\\\\CV\\\\Project\\\\Test\\\\Positive\\\\*.jpg\")\n",
    "test_neg_img = load_images(\"H:\\\\NCSU\\\\Courses\\\\Sem2\\\\CV\\\\Project\\\\Test\\\\Negative\\\\*.jpg\")\n",
    "\n",
    "# Mean and Covariance\n",
    "# print (positive_train.shape)\n",
    "# print (negative_train.shape)\n",
    "mu_pos = np.mean(positive_train, axis=0)\n",
    "mu_neg = np.mean(negative_train, axis=0)\n",
    "\n",
    "#Visualize Mean \n",
    "mean_image = np.array(mu_pos,dtype=\"uint8\").reshape(10,10)\n",
    "mean_image = cv2.resize(mean_image, (60,60))\n",
    "cv2.imwrite(\"H:\\\\NCSU\\\\Courses\\\\Sem2\\\\CV\\\\Project\\\\Output\\\\Model1_mean_pos.jpg\",mean_image)\n",
    "mean_image = np.array(mu_neg,dtype=\"uint8\").reshape(10,10)\n",
    "mean_image = cv2.resize(mean_image, (60,60))\n",
    "cv2.imwrite(\"H:\\\\NCSU\\\\Courses\\\\Sem2\\\\CV\\\\Project\\\\Output\\\\Model1_mean_neg.jpg\",mean_image)\n",
    "\n",
    "\n",
    "sig_pos = np.cov(positive_train.T)\n",
    "sig_neg = np.cov(negative_train.T)\n",
    "\n",
    "#Visualize Covariance \n",
    "covar_diag = np.rint(np.diag(sig_pos))\n",
    "covar_diag = np.rint(255 * covar_diag / max(covar_diag))\n",
    "covar_array = np.array(covar_diag, dtype='uint8')\n",
    "covar_image = covar_array.reshape(10,10)\n",
    "covar_image = cv2.resize(covar_image, (60,60))\n",
    "cv2.imwrite(\"H:\\\\NCSU\\\\Courses\\\\Sem2\\\\CV\\\\Project\\\\Output\\\\Model1_cov_pos.jpg\",covar_image)\n",
    "\n",
    "\n",
    "covar_diag = np.rint(np.diag(sig_neg))\n",
    "covar_diag = np.rint(255 * covar_diag / max(covar_diag))\n",
    "covar_array = np.array(covar_diag, dtype='uint8')\n",
    "covar_image = covar_array.reshape(10,10)\n",
    "covar_image = cv2.resize(covar_image, (60,60))\n",
    "cv2.imwrite(\"H:\\\\NCSU\\\\Courses\\\\Sem2\\\\CV\\\\Project\\\\Output\\\\Model1_cov_neg.jpg\",covar_image)\n",
    "\n",
    "# print (mu_pos)\n",
    "# print (mu_neg)\n",
    "# print (sig_pos)\n",
    "# print (sig_neg)"
   ]
  },
  {
   "cell_type": "code",
   "execution_count": 64,
   "metadata": {
    "collapsed": true
   },
   "outputs": [],
   "source": [
    "##Calculate Predictions\n",
    "pred = []\n",
    "def calc_predictions(test_img, mu_pos, sig_pos, mu_neg, sig_neg):\n",
    "    for test in test_img:\n",
    "        face_pdf = calculate_gaussian_pdf(test, mu_pos, sig_pos)\n",
    "        non_face_pdf = calculate_gaussian_pdf(test, mu_neg, sig_neg)\n",
    "        posterior = (face_pdf)/(non_face_pdf+face_pdf)\n",
    "        pred.append(posterior)"
   ]
  },
  {
   "cell_type": "code",
   "execution_count": 65,
   "metadata": {
    "collapsed": true
   },
   "outputs": [],
   "source": [
    "##Evaluation of Learned model Performance\n",
    "def print_result(accuracy, false_postive_rate, false_negative_rate, misclass):\n",
    "    print(\"\\nResults: \")\n",
    "    print(\"----------\")\n",
    "    print(\"Accuracy: \"+str(accuracy))\n",
    "    print(\"False positive rate: \"+str(false_postive_rate/100))\n",
    "    print(\"False negative rate: \"+str(false_negative_rate/100))\n",
    "    print(\"Misclassification rate: \"+str(misclass))\n",
    "    \n",
    "def calc_accuracy(probability_pred, original):\n",
    "    probability_pred = [ round(elem,2) for elem in probability_pred ]\n",
    "    predictions = []\n",
    "    for i in probability_pred:\n",
    "        if i > 0.5:\n",
    "            predictions.append(1)\n",
    "        else:\n",
    "            predictions.append(0)\n",
    "    match_count = 0\n",
    "    for x,y in zip(original, predictions):\n",
    "        if x==y:\n",
    "            match_count+=1\n",
    "    accuracy = match_count/len(predictions)\n",
    "    misclass = 1-accuracy\n",
    "    false_postive_rate=0\n",
    "    for x,y in zip(original, predictions):\n",
    "        if x!=y & y==1:\n",
    "            false_postive_rate +=1    \n",
    "    false_negative_rate=0\n",
    "    for x,y in zip(original, predictions):\n",
    "        if x!=y & y==0:\n",
    "            false_negative_rate+=1 \n",
    "    print_result(accuracy, false_postive_rate, false_negative_rate, misclass)  \n",
    "\n",
    "    return probability_pred"
   ]
  },
  {
   "cell_type": "code",
   "execution_count": 66,
   "metadata": {},
   "outputs": [
    {
     "name": "stdout",
     "output_type": "stream",
     "text": [
      "\n",
      "Results: \n",
      "----------\n",
      "Accuracy: 0.925\n",
      "False positive rate: 0.15\n",
      "False negative rate: 0.0\n",
      "Misclassification rate: 0.07499999999999996\n"
     ]
    }
   ],
   "source": [
    "## Prediction and Evaluation\n",
    "#Test data - Faces\n",
    "original_pos = [1]*100\n",
    "calc_predictions(test_pos_img, mu_pos, sig_pos, mu_neg, sig_neg)\n",
    "\n",
    "#Test data - Non Faces\n",
    "original_neg = [0]*100\n",
    "calc_predictions(test_neg_img, mu_pos, sig_pos, mu_neg, sig_neg)\n",
    "original = original_pos + original_neg\n",
    "probability_pred = calc_accuracy(pred, original)"
   ]
  },
  {
   "cell_type": "code",
   "execution_count": 67,
   "metadata": {
    "collapsed": true
   },
   "outputs": [],
   "source": [
    "##Plot ROC curve\n",
    "def plot_ROC(original, predictions):\n",
    "    false_positive_rate, true_positive_rate, thresholds = roc_curve(original, predictions)\n",
    "    roc_auc = roc_auc_score(original,predictions)\n",
    "    plt.plot(false_positive_rate, true_positive_rate, 'b',label='AUC = %0.2f'% roc_auc)\n",
    "    plt.legend(loc='right')\n",
    "    plt.xlabel('False Positive Rate')\n",
    "    plt.ylabel('True Positive Rate')\n",
    "    plt.plot([0,1],[0,1],'r--')\n",
    "    plt.xlim([-0.1,1.1])\n",
    "    plt.ylim([-0.1,1.1])\n",
    "    plt.show()"
   ]
  },
  {
   "cell_type": "code",
   "execution_count": 68,
   "metadata": {},
   "outputs": [
    {
     "data": {
      "image/png": "[encoded data removed]",
      "text/plain": [
       "<matplotlib.figure.Figure at 0x211c2112240>"
      ]
     },
     "metadata": {},
     "output_type": "display_data"
    }
   ],
   "source": [
    "plot_ROC(original,pred)"
   ]
  }
 ],
 "metadata": {
  "kernelspec": {
   "display_name": "Python 3",
   "language": "python",
   "name": "python3"
  },
  "language_info": {
   "codemirror_mode": {
    "name": "ipython",
    "version": 3
   },
   "file_extension": ".py",
   "mimetype": "text/x-python",
   "name": "python",
   "nbconvert_exporter": "python",
   "pygments_lexer": "ipython3",
   "version": "3.6.4"
  }
 },
 "nbformat": 4,
 "nbformat_minor": 2
}
